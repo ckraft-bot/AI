{
 "cells": [
  {
   "cell_type": "code",
   "execution_count": 9,
   "id": "3d722063",
   "metadata": {},
   "outputs": [],
   "source": [
    "# Translation with Hugging Face\n",
    "# Python 3.9.5"
   ]
  },
  {
   "cell_type": "code",
   "execution_count": 10,
   "id": "3768aa41",
   "metadata": {},
   "outputs": [],
   "source": [
    "#pip install transformers sentencepiece -q"
   ]
  },
  {
   "cell_type": "code",
   "execution_count": 11,
   "id": "31369b75",
   "metadata": {},
   "outputs": [],
   "source": [
    "from transformers import pipeline\n",
    "\n",
    "# Pipeline summary\n",
    "# Pre processing: convert raw text into numerical data,\n",
    "#   the converted text then feeds the pre trained model.\n",
    "# Model inference: making predictions on the pre trained model\n",
    "# Post processing: convert predictions to an output"
   ]
  },
  {
   "cell_type": "code",
   "execution_count": 12,
   "id": "ed77dd38",
   "metadata": {},
   "outputs": [],
   "source": [
    "# Text2TextGenerationPipeline for language translation\n",
    "pipe = pipeline(task='text2text-generation', model='facebook/m2m100_418M')"
   ]
  },
  {
   "cell_type": "code",
   "execution_count": 13,
   "id": "ae14740d",
   "metadata": {},
   "outputs": [
    {
     "data": {
      "text/plain": [
       "[{'generated_text': '哈兹巴拉在黎巴嫩拥有重大权力,在那里它作为一个什叶派政党和武装团体,它反对以色列和西方在中东运作的权力,它作为伊朗的代理人,其最大的受益者,该团体在该国政治和经济危机中遭遇了前所未有的黎巴嫩公众审查。'}]"
      ]
     },
     "execution_count": 13,
     "metadata": {},
     "output_type": "execute_result"
    }
   ],
   "source": [
    "# Conversion\n",
    "pipe(\"Hezbollah wields significant power in Lebanon, where it operates as both a Shiite political party and militant group. It opposes Israel and Western powers operating in the Middle East, and it functions as a proxy of Iran, its largest benefactor. The group has faced unprecedented scrutiny from the Lebanese public amid the country's political and economic crisis.\", \n",
    "     forced_bos_token_id=pipe.tokenizer.get_lang_id(lang='zh'))\n",
    "\n",
    "# The text comes from Council on Foreign Relations"
   ]
  }
 ],
 "metadata": {
  "interpreter": {
   "hash": "a1e7865366026992a9ce10d0aa31687cc23edbb28b0a7b117cacc3eb7a507505"
  },
  "kernelspec": {
   "display_name": "Python 3.9.5 64-bit",
   "language": "python",
   "name": "python3"
  },
  "language_info": {
   "codemirror_mode": {
    "name": "ipython",
    "version": 3
   },
   "file_extension": ".py",
   "mimetype": "text/x-python",
   "name": "python",
   "nbconvert_exporter": "python",
   "pygments_lexer": "ipython3",
   "version": "3.9.5"
  }
 },
 "nbformat": 4,
 "nbformat_minor": 5
}
