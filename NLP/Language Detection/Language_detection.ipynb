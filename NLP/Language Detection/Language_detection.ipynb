{
 "cells": [
  {
   "cell_type": "code",
   "execution_count": 1,
   "id": "894022bf",
   "metadata": {},
   "outputs": [],
   "source": [
    "# Libraries (purpose)\n",
    "    # scikit-learn (predictive AI)\n",
    "    # Pandas (data science)\n",
    "    # Numpy (math/linear alg)\n",
    "    \n",
    "# Python 3.9.5"
   ]
  },
  {
   "cell_type": "code",
   "execution_count": 2,
   "id": "a08b08d0",
   "metadata": {},
   "outputs": [
    {
     "name": "stderr",
     "output_type": "stream",
     "text": [
      "Backing off send_request(...) for 0.3s (requests.exceptions.SSLError: HTTPSConnectionPool(host='api.segment.io', port=443): Max retries exceeded with url: /v1/batch (Caused by SSLError(SSLCertVerificationError(1, '[SSL: CERTIFICATE_VERIFY_FAILED] certificate verify failed: self signed certificate in certificate chain (_ssl.c:1129)'))))\n",
      "Backing off send_request(...) for 3.6s (requests.exceptions.SSLError: HTTPSConnectionPool(host='api.segment.io', port=443): Max retries exceeded with url: /v1/batch (Caused by SSLError(SSLCertVerificationError(1, '[SSL: CERTIFICATE_VERIFY_FAILED] certificate verify failed: self signed certificate in certificate chain (_ssl.c:1129)'))))\n",
      "Backing off send_request(...) for 7.8s (requests.exceptions.SSLError: HTTPSConnectionPool(host='api.segment.io', port=443): Max retries exceeded with url: /v1/batch (Caused by SSLError(SSLCertVerificationError(1, '[SSL: CERTIFICATE_VERIFY_FAILED] certificate verify failed: self signed certificate in certificate chain (_ssl.c:1129)'))))\n"
     ]
    }
   ],
   "source": [
    "# Import\n",
    "import pandas as pd\n",
    "import numpy as np\n",
    "from sklearn.model_selection import train_test_split\n",
    "from sklearn.feature_extraction.text import CountVectorizer, TfidfTransformer\n",
    "\n",
    "# Load data\n",
    "df = pd.read_csv(r\"C:\\Users\\ckraft\\Desktop\\My Experiments\\Personal Use\\Language_Dataset.csv\")"
   ]
  },
  {
   "cell_type": "code",
   "execution_count": 3,
   "id": "7e7417ea",
   "metadata": {},
   "outputs": [
    {
     "data": {
      "text/html": [
       "<div><div id=7924f177-8e4f-460c-96fb-3ef85676d7c4 style=\"display:none; background-color:#9D6CFF; color:white; width:200px; height:30px; padding-left:5px; border-radius:4px; flex-direction:row; justify-content:space-around; align-items:center;\" onmouseover=\"this.style.backgroundColor='#BA9BF8'\" onmouseout=\"this.style.backgroundColor='#9D6CFF'\" onclick=\"window.commands?.execute('create-mitosheet-from-dataframe-output');\">See Full Dataframe in Mito</div> <script> if (window.commands.hasCommand('create-mitosheet-from-dataframe-output')) document.getElementById('7924f177-8e4f-460c-96fb-3ef85676d7c4').style.display = 'flex' </script> <table border=\"1\" class=\"dataframe\">\n",
       "  <thead>\n",
       "    <tr style=\"text-align: right;\">\n",
       "      <th></th>\n",
       "      <th>Text</th>\n",
       "      <th>language</th>\n",
       "    </tr>\n",
       "  </thead>\n",
       "  <tbody>\n",
       "    <tr>\n",
       "      <th>0</th>\n",
       "      <td>klement gottwaldi surnukeha palsameeriti ning paigutati mausoleumi surnukeha oli aga liiga hilja ja oskamatult palsameeritud ning hakkas ilmutama lagunemise tundemärke  aastal viidi ta surnukeha mausoleumist ära ja kremeeriti zlíni linn kandis aastatel – nime gottwaldov ukrainas harkivi oblastis kandis zmiivi linn aastatel – nime gotvald</td>\n",
       "      <td>Estonian</td>\n",
       "    </tr>\n",
       "    <tr>\n",
       "      <th>1</th>\n",
       "      <td>sebes joseph pereira thomas  på eng the jesuits and the sino-russian treaty of nerchinsk  the diary of thomas pereira bibliotheca instituti historici s i --   rome libris</td>\n",
       "      <td>Swedish</td>\n",
       "    </tr>\n",
       "    <tr>\n",
       "      <th>2</th>\n",
       "      <td>ถนนเจริญกรุง อักษรโรมัน thanon charoen krung เริ่มตั้งแต่ถนนสนามไชยถึงแม่น้ำเจ้าพระยาที่ถนนตก กรุงเทพมหานคร เป็นถนนรุ่นแรกที่ใช้เทคนิคการสร้างแบบตะวันตก ปัจจุบันผ่านพื้นที่เขตพระนคร เขตป้อมปราบศัตรูพ่าย เขตสัมพันธวงศ์ เขตบางรัก เขตสาทร และเขตบางคอแหลม</td>\n",
       "      <td>Thai</td>\n",
       "    </tr>\n",
       "    <tr>\n",
       "      <th>3</th>\n",
       "      <td>விசாகப்பட்டினம் தமிழ்ச்சங்கத்தை இந்துப் பத்திரிகை-விசாகப்பட்டின ஆசிரியர் சம்பத்துடன் இணைந்து விரிவுபடுத்தினார்  ஆண்டுகள் தொடர்ந்து செயலராக இருந்து தமிழ்மன்றத்தை நடத்திச் சென்றார்  கோவை செம்மொழி மாநாட்டில் \"தமிழ்ச்சங்கங்களும் தமிழும்\" எனும் தலைப்பில் பிற மாநிலங்களில் தமிழ்வளர்ச்சி பற்றி கட்டுரை வாசித்தார்</td>\n",
       "      <td>Tamil</td>\n",
       "    </tr>\n",
       "    <tr>\n",
       "      <th>4</th>\n",
       "      <td>de spons behoort tot het geslacht haliclona en behoort tot de familie chalinidae de wetenschappelijke naam van de soort werd voor het eerst geldig gepubliceerd in  door kudelin</td>\n",
       "      <td>Dutch</td>\n",
       "    </tr>\n",
       "  </tbody>\n",
       "</table></div>"
      ],
      "text/plain": [
       "                                                Text  language\n",
       "0  klement gottwaldi surnukeha palsameeriti ning ...  Estonian\n",
       "1  sebes joseph pereira thomas  på eng the jesuit...   Swedish\n",
       "2  ถนนเจริญกรุง อักษรโรมัน thanon charoen krung เ...      Thai\n",
       "3  விசாகப்பட்டினம் தமிழ்ச்சங்கத்தை இந்துப் பத்திர...     Tamil\n",
       "4  de spons behoort tot het geslacht haliclona en...     Dutch"
      ]
     },
     "execution_count": 3,
     "metadata": {},
     "output_type": "execute_result"
    }
   ],
   "source": [
    "df.head(5)"
   ]
  },
  {
   "cell_type": "code",
   "execution_count": 4,
   "id": "9ee7c1cf",
   "metadata": {},
   "outputs": [
    {
     "data": {
      "text/plain": [
       "Latin         1000\n",
       "Estonian      1000\n",
       "English       1000\n",
       "Japanese      1000\n",
       "Portugese     1000\n",
       "Spanish       1000\n",
       "Thai          1000\n",
       "French        1000\n",
       "Pushto        1000\n",
       "Korean        1000\n",
       "Persian       1000\n",
       "Russian       1000\n",
       "Turkish       1000\n",
       "Tamil         1000\n",
       "Romanian      1000\n",
       "Arabic        1000\n",
       "Chinese       1000\n",
       "Urdu          1000\n",
       "Indonesian    1000\n",
       "Swedish       1000\n",
       "Hindi         1000\n",
       "Dutch         1000\n",
       "Name: language, dtype: int64"
      ]
     },
     "execution_count": 4,
     "metadata": {},
     "output_type": "execute_result"
    }
   ],
   "source": [
    "df[\"language\"].value_counts()"
   ]
  },
  {
   "cell_type": "code",
   "execution_count": 5,
   "id": "82ffe97b",
   "metadata": {},
   "outputs": [
    {
     "data": {
      "text/plain": [
       "haec commentatio automatice praeparata res astronomicas colligit excerptas e pagina [] sitús small-body database quem elaboraverunt nasa et jpl apud institutum technologiae californiense                                                                                                                                                                                                                                                                                                                                                                                                                                                                                                                                                                                                                                                                                                                                                                                                                                                                    48\n",
       "இக்கோயில் முதன்மைத் திருக்கோயில் என்ற வகைப்பாட்டில் இந்து அறநிலையத்துறையின் கட்டுப்பாட்டில் உள்ளது பரம்பரை அல்லாத அறங்காவலர் அமைப்பால் நிர்வகிக்கப்படுகிறது                                                                                                                                                                                                                                                                                                                                                                                                                                                                                                                                                                                                                                                                                                                                                                                                                                                                                                   17\n",
       "bisby fa roskov yr orrell tm nicolson d paglinawan le bailly n kirk pm bourgoin t baillargeon g ouvrard d red  \"species   itis catalogue of life  annual checklist\" species  reading uk diakses pada  september                                                                                                                                                                                                                                                                                                                                                                                                                                                                                                                                                                                                                                                                                                                                                                                                                                               12\n",
       "#NAME?                                                                                                                                                                                                                                                                                                                                                                                                                                                                                                                                                                                                                                                                                                                                                                                                                                                                                                                                                                                                                                                        11\n",
       "lévolution du nombre dhabitants est connue à travers les recensements de la population effectués dans la commune depuis  à partir de  les populations légales des communes sont publiées annuellement par linsee le recensement repose désormais sur une collecte dinformation annuelle concernant successivement tous les territoires communaux au cours dune période de cinq ans pour les communes de moins de   habitants une enquête de recensement portant sur toute la population est réalisée tous les cinq ans les populations légales des années intermédiaires étant quant à elles estimées par interpolation ou extrapolation pour la commune le premier recensement exhaustif entrant dans le cadre du nouveau dispositif a été réalisé en                                                                                                                                                                                                                                                                                                         7\n",
       "                                                                                                                                                                                                                                                                                                                                                                                                                                                                                                                                                                                                                                                                                                                                                                                                                                                                                                                                                                                                                                                              ..\n",
       "en angleterre laurent bénéfice de toute la confiance du manager bobby robson qui fait de lui une pièce maitresse de son équipe type les saisons suivantes sont plus mitigées et larrivée de lentraîneur graeme souness pousse laurent robert vers la sortie prêté à portsmouth fc où il côtoie lentraîneur français alain perrin durant lété  il est transféré en janvier  au benfica lisbonne à la fin de la saison - il quitte benfica pour le club espagnol de levante malgré un nombre important de français dans leffectif du club espagnol il ne parvient pas à sintégrer et à simposer dans le onze type et suit même les matchs depuis les tribunes en novembre  dun commun accord avec son club espagnol il met fin à son contrat libre il signe à derby county premier league anglaise le  janvier  mais quelques mois plus tard il rejoint le club canadien de toronto afin de participer à la saison  de la major league soccer le  août  le toronto fc le libère de son contrat et il signe quelques jours après avec le club grec de larissa     1\n",
       "تتم عملية التنعيم في بطاقة العرض او برمجيا  في كل الاحوال تستخدم انواع من الخوزميات تختلف و تتفاوت في الأداء و النتيجة  من أشهر الطرق و ابسطها fsaa تنعيم الشاشة الكامل  من الاسم تستنتج ان المعالجة تكون على جميع النقاط في الشاشة  فكل بكسل مستهدف يكتسب لون ناتج من مزج الوان المربعات المحيطة به  يمكن القول إنه أفضل شكل من أشكال التنعيم لأنه يقلل في الإسترداف إلى حد كبير لكن يبقى الطمس طفيف في بعض أجزاء الصورة  وحدات معالجة الرسومية لديها القدرة على استخدام هذا التنعيم بما انها المسؤولة في إخراج الصورة إلى الشاشة و من بين الخورزميات المستعملة                                                                                                                                                                                                                                                                                                                                                                                                                                                                                               1\n",
       "रैखिक परिपथों में लगे हुए प्रतिरोध प्रेरकत्व संधारित्र तथा लब्धि gain आदि का मान परिपथ में मौजूद वोल्टेज और धारा के मान से बिलकुल नहीं बदलते। रैखिक परिपथ इसलिये महत्वपूर्ण है कि वे इलेक्ट्रानिक संकेतों का रूप बदले बिना ही बिना डिस्टॉर्शन उन्हें प्रवर्धित तथा प्रसंस्कृत कर सकते हैं।                                                                                                                                                                                                                                                                                                                                                                                                                                                                                                                                                                                                                                                                                                                                                                     1\n",
       "march   - the town of sakanoichi and the village of ōzai were merged with the town of oita and dainan both from ōita district and the cities of ōita and tsurusaki to create the city of ōita                                                                                                                                                                                                                                                                                                                                                                                                                                                                                                                                                                                                                                                                                                                                                                                                                                                                  1\n",
       "கோபால் சர்மா gopal sharma  பிறப்பு ஆகத்து   இந்தியத் தேசிய துடுப்பாட்ட அணியின் முன்னாள் துடுப்பாட்டக்காரர் இவர் ஐந்து தேர்வுத் துடுப்பாட்டப் போட்டிகளிலும்  ஒருநாள் பன்னாட்டுத் துடுப்பாட்டப் போட்டிகளிலும் கலந்து கொண்டுள்ளார் தேர்வுத் துடுப்பாட்டப் போட்டியில் இந்தியத் தேசிய அணியினை இவர்  –  ஆண்டுகளில் பிரதிநிதித்துவப் படுத்தியுள்ளார்                                                                                                                                                                                                                                                                                                                                                                                                                                                                                                                                                                                                                                                                                                                  1\n",
       "Name: Text, Length: 21850, dtype: int64"
      ]
     },
     "execution_count": 5,
     "metadata": {},
     "output_type": "execute_result"
    }
   ],
   "source": [
    "df[\"Text\"].value_counts()"
   ]
  },
  {
   "cell_type": "code",
   "execution_count": 6,
   "id": "cd9e43c8",
   "metadata": {},
   "outputs": [
    {
     "name": "stderr",
     "output_type": "stream",
     "text": [
      "Backing off send_request(...) for 1.6s (requests.exceptions.SSLError: HTTPSConnectionPool(host='api.segment.io', port=443): Max retries exceeded with url: /v1/batch (Caused by SSLError(SSLCertVerificationError(1, '[SSL: CERTIFICATE_VERIFY_FAILED] certificate verify failed: self signed certificate in certificate chain (_ssl.c:1129)'))))\n",
      "Backing off send_request(...) for 9.0s (requests.exceptions.SSLError: HTTPSConnectionPool(host='api.segment.io', port=443): Max retries exceeded with url: /v1/batch (Caused by SSLError(SSLCertVerificationError(1, '[SSL: CERTIFICATE_VERIFY_FAILED] certificate verify failed: self signed certificate in certificate chain (_ssl.c:1129)'))))\n"
     ]
    },
    {
     "data": {
      "text/plain": [
       "RidgeClassifier()"
      ]
     },
     "execution_count": 6,
     "metadata": {},
     "output_type": "execute_result"
    }
   ],
   "source": [
    "# Let the training begin\n",
    "from sklearn.linear_model import RidgeClassifier\n",
    "# Classifier using Ridge regression:\n",
    "    # This classifier first converts the target values into {-1, 1} \n",
    "    # and then treats the problem as a regression task (multi-output regression in the multiclass case).\n",
    "    # This (ridge regression) algorithms is most optimal in situations where\n",
    "    # the data does not exceed 100k samples of data or when you have parameters > samples.\n",
    "    # It is quite similar to linear regression.\n",
    "    # Read more about Ridge classification here :https://medium.com/@corymaklin/machine-learning-algorithms-part-11-ridge-regression-7d5861c2bc76\n",
    "\n",
    "# Model setup\n",
    "X_train, X_test, Y_train, Y_test = train_test_split(df.Text, \n",
    "                                                    df.language,\n",
    "                                                    test_size=0.325000000000000001,\n",
    "                                                    random_state=2551,\n",
    "                                                    shuffle=True)\n",
    "\n",
    "X_CountVectorizer = CountVectorizer(stop_words='english')\n",
    "\n",
    "X_train_counts = X_CountVectorizer.fit_transform(X_train)\n",
    "\n",
    "X_TfidfTransformer = TfidfTransformer()\n",
    "\n",
    "X_train_tfidf = X_TfidfTransformer.fit_transform(X_train_counts)\n",
    "\n",
    "# Model creation\n",
    "model = RidgeClassifier()\n",
    "model.fit(X_train_tfidf, Y_train)"
   ]
  },
  {
   "cell_type": "code",
   "execution_count": 7,
   "id": "ff2efe27",
   "metadata": {},
   "outputs": [
    {
     "data": {
      "text/plain": [
       "0.9646153846153847"
      ]
     },
     "execution_count": 7,
     "metadata": {},
     "output_type": "execute_result"
    }
   ],
   "source": [
    "# Accuracy check for the model\n",
    "    # \n",
    "# model.score([Test_data])\n",
    "model.score(X_CountVectorizer.transform(X_test),Y_test)\n"
   ]
  },
  {
   "cell_type": "code",
   "execution_count": 8,
   "id": "4f10b3b7",
   "metadata": {},
   "outputs": [
    {
     "data": {
      "text/plain": [
       "'The language prediction is: Swedish'"
      ]
     },
     "execution_count": 8,
     "metadata": {},
     "output_type": "execute_result"
    }
   ],
   "source": [
    "# Prediction\n",
    "# Source of texts taken from https://lingua.com/\n",
    "text = \"\"\"Maria og hendes venner tager nogle gange ud i weekenden for at få en øl. \n",
    "De kan godt lide steder hvor der er god musik, men helst ikke så højt at man ikke kan snakke sammen. \n",
    "Der skal være god stemning, og ikke en masse fulde mennesker. \n",
    "Maria kan personligt bedst lide når der er live musik. \n",
    "En guitar og en sanger, og måske nogle trommer\n",
    "\"\"\"\n",
    "\n",
    "text = [text]\n",
    " \n",
    "text_counts = X_CountVectorizer.transform(text)\n",
    "\n",
    "#Prediction Processing\n",
    "prediction = model.predict(text_counts)\n",
    "\n",
    "f\"The language prediction is: {prediction[0]}\""
   ]
  },
  {
   "cell_type": "code",
   "execution_count": 9,
   "id": "b1843a2c",
   "metadata": {},
   "outputs": [
    {
     "data": {
      "text/plain": [
       "'The language prediction is: Turkish'"
      ]
     },
     "execution_count": 9,
     "metadata": {},
     "output_type": "execute_result"
    }
   ],
   "source": [
    "# Prediction\n",
    "# Source of texts taken from https://lingua.com/\n",
    "text = \"\"\"Şark Ekspresi 1883 ile 1977 yılları arasında Paris-İstanbul arasında sefer yapan trendir. \n",
    "Bu sefer çoğunlukla ‘Orient Express ‘olarak bilinse de farklı isimlerle de anılmıştır. \n",
    "Fransız bir firma olan Vagon-Li şirketine ait olan bu tren, ilk seferini 1883 yılında Paris-İstanbul arasında yapmıştır. \n",
    "Bu sefere Almanya, Fransa ve Osmanlı Devletinden birçok diplomat ve gezgin katılmıştır. \n",
    "Demiryolu taşımacılığının yaygın olmadığı bir dönemde başlayan bu sefer, lüks ve rahat seyahatin sembolüydü.\"\"\"\n",
    "\n",
    "text = [text]\n",
    " \n",
    "text_counts = X_CountVectorizer.transform(text)\n",
    "\n",
    "#Prediction Processing\n",
    "prediction = model.predict(text_counts)\n",
    "\n",
    "f\"The language prediction is: {prediction[0]}\""
   ]
  },
  {
   "cell_type": "code",
   "execution_count": 10,
   "id": "335e5d49",
   "metadata": {},
   "outputs": [
    {
     "data": {
      "text/plain": [
       "'The language prediction is: Arabic'"
      ]
     },
     "execution_count": 10,
     "metadata": {},
     "output_type": "execute_result"
    }
   ],
   "source": [
    "# Prediction\n",
    "# Source of texts taken from https://www.un.org/\n",
    "text = \"\"\"أهداف التنمية المستدامة هي دعوة جميع البلدان الفقيرة والغنية والمتوسطة الدخل للعمل لتعزيز الازدهار مع الأخذ بالاعتبا\n",
    "ر حماية كوكب الأرض. وتدرك هذه الاهداف بأن القضاء على الفقر يجب أن يسير جنباً إلى جنب مع الاستراتيجيات التي تبني النمو الاقتصادي كما وتتنا\n",
    "ول مجموعة من الاحتياجات الاجتماعية بما في ذلك التعليم والصحة والحماية الاجتماعية وفرص العمل مع معالجة تغير المناخ وحماية البيئة\"\"\"\n",
    "\n",
    "text = [text]\n",
    " \n",
    "text_counts = X_CountVectorizer.transform(text)\n",
    "\n",
    "#Prediction Processing\n",
    "prediction = model.predict(text_counts)\n",
    "\n",
    "f\"The language prediction is: {prediction[0]}\""
   ]
  },
  {
   "cell_type": "code",
   "execution_count": 11,
   "id": "0b4d7c13",
   "metadata": {},
   "outputs": [
    {
     "data": {
      "text/plain": [
       "'The language prediction is: Chinese'"
      ]
     },
     "execution_count": 11,
     "metadata": {},
     "output_type": "execute_result"
    }
   ],
   "source": [
    "# Prediction\n",
    "# Source of texts taken from https://www.un.org/\n",
    "text = \"\"\"联合国大会是本组织的主要决策机构。它由所有会员国组成，为就《联合国宪章》所涵盖的全部国际问题进行的多边讨论提供了一个独特的论坛。\n",
    "联合国193个会员国中的每一个会员国都有平等的投票权。\"\"\"\n",
    "\n",
    "text = [text]\n",
    " \n",
    "text_counts = X_CountVectorizer.transform(text)\n",
    "\n",
    "#Prediction Processing\n",
    "prediction = model.predict(text_counts)\n",
    "\n",
    "f\"The language prediction is: {prediction[0]}\""
   ]
  },
  {
   "cell_type": "code",
   "execution_count": 12,
   "id": "bf9fc68e",
   "metadata": {},
   "outputs": [
    {
     "data": {
      "text/plain": [
       "'The language prediction is: French'"
      ]
     },
     "execution_count": 12,
     "metadata": {},
     "output_type": "execute_result"
    }
   ],
   "source": [
    "# Prediction\n",
    "# Source of texts taken from https://www.interieur.gouv.fr/\n",
    "text = \"\"\"Depuis deux siècles, au cœur de l'État dans les territoires, le ministère de l'Intérieur répond aux attentes et demandes des citoyens.\n",
    "Son organisation, ses moyens humains et matériels constituent l'outil privilégié de l'État pour garantir aux citoyens l'exercice des droits, \n",
    "devoirs et libertés réaffirmés par la Constitution de la Ve République.\"\"\"\n",
    "\n",
    "text = [text]\n",
    " \n",
    "text_counts = X_CountVectorizer.transform(text)\n",
    "\n",
    "#Prediction Processing\n",
    "prediction = model.predict(text_counts)\n",
    "\n",
    "f\"The language prediction is: {prediction[0]}\""
   ]
  },
  {
   "cell_type": "code",
   "execution_count": 13,
   "id": "c6498f82",
   "metadata": {},
   "outputs": [
    {
     "data": {
      "text/plain": [
       "'The language prediction is: Korean'"
      ]
     },
     "execution_count": 13,
     "metadata": {},
     "output_type": "execute_result"
    },
    {
     "name": "stderr",
     "output_type": "stream",
     "text": [
      "Backing off send_request(...) for 13.9s (requests.exceptions.SSLError: HTTPSConnectionPool(host='api.segment.io', port=443): Max retries exceeded with url: /v1/batch (Caused by SSLError(SSLCertVerificationError(1, '[SSL: CERTIFICATE_VERIFY_FAILED] certificate verify failed: self signed certificate in certificate chain (_ssl.c:1129)'))))\n",
      "Backing off send_request(...) for 15.3s (requests.exceptions.SSLError: HTTPSConnectionPool(host='api.segment.io', port=443): Max retries exceeded with url: /v1/batch (Caused by SSLError(SSLCertVerificationError(1, '[SSL: CERTIFICATE_VERIFY_FAILED] certificate verify failed: self signed certificate in certificate chain (_ssl.c:1129)'))))\n",
      "Backing off send_request(...) for 156.3s (requests.exceptions.SSLError: HTTPSConnectionPool(host='api.segment.io', port=443): Max retries exceeded with url: /v1/batch (Caused by SSLError(SSLCertVerificationError(1, '[SSL: CERTIFICATE_VERIFY_FAILED] certificate verify failed: self signed certificate in certificate chain (_ssl.c:1129)'))))\n",
      "Backing off send_request(...) for 327.5s (requests.exceptions.SSLError: HTTPSConnectionPool(host='api.segment.io', port=443): Max retries exceeded with url: /v1/batch (Caused by SSLError(SSLCertVerificationError(1, '[SSL: CERTIFICATE_VERIFY_FAILED] certificate verify failed: self signed certificate in certificate chain (_ssl.c:1129)'))))\n",
      "Giving up send_request(...) after 11 tries (requests.exceptions.SSLError: HTTPSConnectionPool(host='api.segment.io', port=443): Max retries exceeded with url: /v1/batch (Caused by SSLError(SSLCertVerificationError(1, '[SSL: CERTIFICATE_VERIFY_FAILED] certificate verify failed: self signed certificate in certificate chain (_ssl.c:1129)'))))\n",
      "error uploading: HTTPSConnectionPool(host='api.segment.io', port=443): Max retries exceeded with url: /v1/batch (Caused by SSLError(SSLCertVerificationError(1, '[SSL: CERTIFICATE_VERIFY_FAILED] certificate verify failed: self signed certificate in certificate chain (_ssl.c:1129)')))\n"
     ]
    }
   ],
   "source": [
    "# Prediction\n",
    "# Source of texts taken from https://www.kakaocorp.com/page/\n",
    "text = \"\"\" 카카오 공동체가 ‘메타버스 근무제’를 ‘공동체 일하는 방식’으로 선언하고, 오는 7월부터 카카오가 첫 시행에 나선다고 30일 밝혔다.\n",
    "코로나19로 인해 지난 2020년 2월부터 원격근무를 시행해온 카카오는 공동체 얼라인먼트 센터(CAC) 산하에 ‘공동체 일하는 방식 2.0 TF’를 신설, \n",
    "현재의 원격근무에서 발전된 카카오 공동체만의 일하는 방식을 만들기 위해 지속적으로 고민해왔다. \n",
    "지난 2년간 카카오 계열사들이 경험한 다양한 원격근무 사례와 노하우를 바탕으로 수차례 워크숍을 진행한 결과 ‘어디서' 일하는지 보다 ‘어떻게’ 일하는지가 더 중요하다고 판단, \n",
    "‘메타버스 근무제'라는 새로운 형태의 근무 방식을 설계했다.\"\"\"\n",
    "\n",
    "text = [text]\n",
    " \n",
    "text_counts = X_CountVectorizer.transform(text)\n",
    "\n",
    "#Prediction Processing\n",
    "prediction = model.predict(text_counts)\n",
    "\n",
    "f\"The language prediction is: {prediction[0]}\""
   ]
  }
 ],
 "metadata": {
  "interpreter": {
   "hash": "a1e7865366026992a9ce10d0aa31687cc23edbb28b0a7b117cacc3eb7a507505"
  },
  "kernelspec": {
   "display_name": "Python 3.9.5 64-bit",
   "language": "python",
   "name": "python3"
  },
  "language_info": {
   "codemirror_mode": {
    "name": "ipython",
    "version": 3
   },
   "file_extension": ".py",
   "mimetype": "text/x-python",
   "name": "python",
   "nbconvert_exporter": "python",
   "pygments_lexer": "ipython3",
   "version": "3.9.5"
  }
 },
 "nbformat": 4,
 "nbformat_minor": 5
}
