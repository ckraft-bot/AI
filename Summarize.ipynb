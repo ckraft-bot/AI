{
 "cells": [
  {
   "cell_type": "code",
   "execution_count": 1,
   "metadata": {},
   "outputs": [
    {
     "name": "stdout",
     "output_type": "stream",
     "text": [
      "Collecting transformers\n",
      "  Using cached transformers-4.16.2-py3-none-any.whl (3.5 MB)\n",
      "Collecting huggingface-hub<1.0,>=0.1.0\n",
      "  Using cached huggingface_hub-0.4.0-py3-none-any.whl (67 kB)\n",
      "Requirement already satisfied: tqdm>=4.27 in /opt/anaconda3/lib/python3.8/site-packages (from transformers) (4.50.2)\n",
      "Requirement already satisfied: filelock in /opt/anaconda3/lib/python3.8/site-packages (from transformers) (3.0.12)\n",
      "Requirement already satisfied: requests in /opt/anaconda3/lib/python3.8/site-packages (from transformers) (2.26.0)\n",
      "Requirement already satisfied: regex!=2019.12.17 in /opt/anaconda3/lib/python3.8/site-packages (from transformers) (2020.10.15)\n",
      "Requirement already satisfied: packaging>=20.0 in /opt/anaconda3/lib/python3.8/site-packages (from transformers) (21.0)\n",
      "Collecting sacremoses\n",
      "  Using cached sacremoses-0.0.47-py2.py3-none-any.whl (895 kB)\n",
      "Requirement already satisfied: pyyaml>=5.1 in /opt/anaconda3/lib/python3.8/site-packages (from transformers) (5.3.1)\n",
      "Collecting tokenizers!=0.11.3,>=0.10.1\n",
      "  Downloading tokenizers-0.11.4-cp38-cp38-macosx_10_11_x86_64.whl (3.7 MB)\n",
      "\u001b[K     |████████████████████████████████| 3.7 MB 7.6 MB/s \n",
      "\u001b[?25hRequirement already satisfied: numpy>=1.17 in /opt/anaconda3/lib/python3.8/site-packages (from transformers) (1.21.2)\n",
      "Requirement already satisfied: typing-extensions>=3.7.4.3 in /opt/anaconda3/lib/python3.8/site-packages (from huggingface-hub<1.0,>=0.1.0->transformers) (3.7.4.3)\n",
      "Requirement already satisfied: pyparsing>=2.0.2 in /opt/anaconda3/lib/python3.8/site-packages (from packaging>=20.0->transformers) (2.4.7)\n",
      "Requirement already satisfied: idna<4,>=2.5 in /opt/anaconda3/lib/python3.8/site-packages (from requests->transformers) (3.2)\n",
      "Requirement already satisfied: charset-normalizer~=2.0.0 in /opt/anaconda3/lib/python3.8/site-packages (from requests->transformers) (2.0.3)\n",
      "Requirement already satisfied: certifi>=2017.4.17 in /opt/anaconda3/lib/python3.8/site-packages (from requests->transformers) (2021.5.30)\n",
      "Requirement already satisfied: urllib3<1.27,>=1.21.1 in /opt/anaconda3/lib/python3.8/site-packages (from requests->transformers) (1.26.6)\n",
      "Requirement already satisfied: joblib in /opt/anaconda3/lib/python3.8/site-packages (from sacremoses->transformers) (0.17.0)\n",
      "Requirement already satisfied: click in /opt/anaconda3/lib/python3.8/site-packages (from sacremoses->transformers) (7.1.2)\n",
      "Requirement already satisfied: six in /opt/anaconda3/lib/python3.8/site-packages (from sacremoses->transformers) (1.15.0)\n",
      "Installing collected packages: tokenizers, sacremoses, huggingface-hub, transformers\n",
      "Successfully installed huggingface-hub-0.4.0 sacremoses-0.0.47 tokenizers-0.11.4 transformers-4.16.2\n",
      "\u001b[33mWARNING: You are using pip version 21.2.4; however, version 22.0.3 is available.\n",
      "You should consider upgrading via the '/opt/anaconda3/bin/python -m pip install --upgrade pip' command.\u001b[0m\n"
     ]
    }
   ],
   "source": [
    "#!pip install transformers\n",
    "#use Python 3.8.5 64 bit('base':conda) as env"
   ]
  },
  {
   "cell_type": "code",
   "execution_count": 2,
   "metadata": {},
   "outputs": [],
   "source": [
    "from transformers import pipeline"
   ]
  },
  {
   "cell_type": "code",
   "execution_count": 3,
   "metadata": {},
   "outputs": [
    {
     "name": "stdout",
     "output_type": "stream",
     "text": [
      "\u001b[31mERROR: Could not find a version that satisfies the requirement tensorflow-gpu (from versions: none)\u001b[0m\n",
      "\u001b[31mERROR: No matching distribution found for tensorflow-gpu\u001b[0m\n",
      "\u001b[33mWARNING: You are using pip version 21.2.4; however, version 22.0.3 is available.\n",
      "You should consider upgrading via the '/opt/anaconda3/bin/python -m pip install --upgrade pip' command.\u001b[0m\n"
     ]
    }
   ],
   "source": [
    "#!pip3 install --upgrade tensorflow-gpu #for pipeline"
   ]
  },
  {
   "cell_type": "code",
   "execution_count": 4,
   "metadata": {},
   "outputs": [
    {
     "name": "stderr",
     "output_type": "stream",
     "text": [
      "No model was supplied, defaulted to t5-small (https://huggingface.co/t5-small)\n",
      "Downloading: 100%|██████████| 231M/231M [00:10<00:00, 23.0MB/s]\n",
      "All model checkpoint layers were used when initializing TFT5ForConditionalGeneration.\n",
      "\n",
      "All the layers of TFT5ForConditionalGeneration were initialized from the model checkpoint at t5-small.\n",
      "If your task is similar to the task the model of the checkpoint was trained on, you can already use TFT5ForConditionalGeneration for predictions without further training.\n",
      "Downloading: 100%|██████████| 773k/773k [00:00<00:00, 5.34MB/s]\n",
      "Downloading: 100%|██████████| 1.32M/1.32M [00:00<00:00, 4.94MB/s]\n"
     ]
    }
   ],
   "source": [
    "summarizer = pipeline('summarization')"
   ]
  },
  {
   "cell_type": "code",
   "execution_count": 8,
   "metadata": {},
   "outputs": [],
   "source": [
    "article  = \"\"\"\n",
    "\n",
    "Ever since evidence began to emerge last month that British Prime Minister Boris Johnson and his staffers enjoyed at least 12 wine- and cake-fueled parties and discos during the strictest period of Britain’s COVID-19 lockdown last year, Johnson has been fighting for his political life. But a slew of high-profile resignations this week from his Downing Street team—including his policy director, spokesperson, and chief secretary—could turn a slow slide toward political oblivion into an avalanche.\n",
    "The latest resignations “feel like a tipping point,” said one senior Conservative member of the House of Lords, who is “seriously thinking whether Boris is the right person to lead us into the next election. The question to answer is: Can he rebuild trust among the party and among voters, or is the brand too damaged?”\n",
    "The so-called Partygate revelations have triggered a collapse in Johnson’s net personal approval ratings, currently at a 30-year low of negative 46 percent, as well as the Conservative Party’s approval ratings, which trail the opposition Labour Party by 10 points in recent polls. \n",
    "A steady stream of photographs and stories, many leaked by Johnson’s sacked right-hand man and former chief advisor, Dominic Cummings, have led to accusations of hypocrisy not just from Labour but from many members of Johnson’s own party. At the time of the Downing Street festivities, Britons were banned from mixing with other households, visiting elderly relatives, or attending the funerals of loved ones. In a stinging rebuke in the House of Commons, Johnson’s predecessor, Theresa May, said, “No. 10 Downing St. was not observing the regulations they had imposed on members of the public. Either [Johnson] had not read the rules, or didn’t understand what they meant, or others around him, or they didn’t think the rules applied to them. Which was it?”\n",
    "Johnson’s first line of defense was to categorically deny that any lockdown rule-breaking had occurred. Then, as stories of more parties surfaced—including pictures of a special wine fridge being delivered to Downing Street—he insisted that “nobody told me” that a wine-and-cheese gathering in the Downing Street garden, which more than 100 staffers were invited to, might breach the rules. Johnson then commissioned Sue Gray, a top civil servant, to produce a detailed report on the alleged parties, which the prime minister insists on calling “work events.”\n",
    "“A number of these gatherings should not have been allowed to take place,” Gray concluded, suggesting that “failures of leadership and judgment” were to blame. But the Gray report was overshadowed by the Metropolitan Police Service’s parallel investigation into potential breaches of then-current lockdown laws that could result in criminal fines imposed on the lawbreakers, which could include Johnson himself. A full version of Gray’s findings won’t be released until the police investigation is complete.\n",
    "A recent Opinium poll showed that just 13 percent of voters think Johnson is telling the truth about Partygate; 64 percent do not. That collapse in public trust has caused a handful of Conservative members of Parliament to formally call for a vote on a new leader. To do so, lawmakers need 54 no-confidence letters; so far, 12 have gone public about their withdrawal of support, though several more have reportedly submitted letters privately. Andrew Mitchell, a member of Parliament and former cabinet minister, compared the scandal to “battery acid” that was “corroding the fabric of the Conservative Party.”\n",
    "So far, Johnson has remained bullish, insisting he would lead the party at the next election. He has also counterattacked, aggressively slapping down criticism from Labour leader Keir Starmer by accusing him of failing to prosecute Jimmy Savile, a notorious pedophile and television personality, while Starmer was in charge of Britain’s Crown Prosecution Service under the previous Labour government. It was a low blow that smelled, to many of his supporters and staffers, of desperation. Munira Mirza, head of Downing Street’s policy unit and a close colleague of Johnson’s for 14 years, resigned over Johnson’s “misleading” attack on Starmer.\n",
    "Johnson’s supporters have attempted to spin the five top-level resignations as a “house-cleaning,” even dubbing it his “night of the long knives.” Indeed, one of those who departed was Johnson’s private secretary, Martin Reynolds, who issued the fateful garden party invitation. But “Mirza was one of the highest fliers” at Downing Street, said a senior Johnson aide who worked closely with Mirza. “The feeling is that she is lining up for a top job with the next leader,” a maneuver that requires “putting a bit of distance between her and Boris.”\n",
    "More worrying to the Conservatives as a whole, though, is the prospect that Johnson has gone from a vote-winner with a Midas touch to a serious electoral liability. Johnson won a historic 80-seat majority in 2019 on the promise of “getting Brexit done,” stealing dozens of traditionally Labour working-class constituencies that had never previously voted Conservative. A recent poll for Channel 4 News showed that Johnson’s reputation had crashed particularly badly in those so-called red wall seats—and on current polling, all but three would be lost, and Labour would win an overall majority.\n",
    "\n",
    "\"\"\""
   ]
  },
  {
   "cell_type": "code",
   "execution_count": 13,
   "metadata": {},
   "outputs": [
    {
     "name": "stderr",
     "output_type": "stream",
     "text": [
      "Your max_length is set to 1250, but you input_length is only 1232. You might consider decreasing max_length manually, e.g. summarizer('...', max_length=616)\n"
     ]
    }
   ],
   "source": [
    "summary = summarizer(article, max_length = 1250, min_length = 100, do_sample = False)"
   ]
  },
  {
   "cell_type": "code",
   "execution_count": 12,
   "metadata": {},
   "outputs": [
    {
     "data": {
      "text/plain": [
       "[{'summary_text': \"a slew of high-profile resignations from his downing street team could turn a slow slide toward political oblivion into an avalanche . the so-called Partygate revelations have triggered a collapse in Johnson’s net personal approval ratings, currently at a 30-year low of negative 46 percent . a steady stream of photographs and stories have led to accusations of hypocrisy not just from Labour but from many members of Johnson's own party .\"}]"
      ]
     },
     "execution_count": 12,
     "metadata": {},
     "output_type": "execute_result"
    }
   ],
   "source": [
    "summary"
   ]
  },
  {
   "cell_type": "code",
   "execution_count": null,
   "metadata": {},
   "outputs": [],
   "source": [
    "# Article Source\n",
    "# https://foreignpolicy.com/2022/02/04/boris-johnson-partygate-resignation-britain-scandal/"
   ]
  }
 ],
 "metadata": {
  "interpreter": {
   "hash": "40d3a090f54c6569ab1632332b64b2c03c39dcf918b08424e98f38b5ae0af88f"
  },
  "kernelspec": {
   "display_name": "Python 3.8.5 64-bit ('base': conda)",
   "name": "python3"
  },
  "language_info": {
   "codemirror_mode": {
    "name": "ipython",
    "version": 3
   },
   "file_extension": ".py",
   "mimetype": "text/x-python",
   "name": "python",
   "nbconvert_exporter": "python",
   "pygments_lexer": "ipython3",
   "version": "3.8.5"
  },
  "orig_nbformat": 4
 },
 "nbformat": 4,
 "nbformat_minor": 2
}
